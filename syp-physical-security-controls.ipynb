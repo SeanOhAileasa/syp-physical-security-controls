{
 "cells": [
  {
   "cell_type": "markdown",
   "id": "d4ee9e4b",
   "metadata": {},
   "source": [
    "***\n",
    "< [Home](https://github.com/SeanOhAileasa) | [README](https://github.com/SeanOhAileasa/syp-physical-security-controls/blob/main/README.md) >\n",
    "\n",
    "## CompTIA Security+ - Course Material 2022\n",
    "###### Topic: ``Physical Security Controls``\n",
    "***"
   ]
  },
  {
   "cell_type": "markdown",
   "id": "b82b07fb",
   "metadata": {},
   "source": [
    "Course material for the ``CompTIA Security+`` module of the ``ICT Associate Apprenticeship (Cybersecurity)`` programme."
   ]
  },
  {
   "cell_type": "markdown",
   "id": "e7228f57",
   "metadata": {},
   "source": [
    "<a id=\"top\"></a>\n",
    "***\n",
    "## Table of Contents\n",
    "***"
   ]
  },
  {
   "cell_type": "markdown",
   "id": "c2bb5e7b",
   "metadata": {},
   "source": [
    "### [Physical Security Controls](#PhysicalSecurityControls) <br/><br/>\n",
    "<hr width=50%;>"
   ]
  },
  {
   "cell_type": "markdown",
   "id": "84572dab",
   "metadata": {},
   "source": [
    "### [Types of Physical Barriers](#TypesofPhysicalBarriers) <br/><br/> \n",
    "<hr width=50%;>"
   ]
  },
  {
   "cell_type": "markdown",
   "id": "6f1255ee",
   "metadata": {},
   "source": [
    "### [Cameras and Surveillance Methods](#CamerasandSurveillanceMethods) <br/><br/> \n",
    "<hr width=50%;>"
   ]
  },
  {
   "cell_type": "markdown",
   "id": "ff87faac",
   "metadata": {},
   "source": [
    "### [Personnel Controls](#PersonnelControls) <br/><br/> \n",
    "<hr width=50%;>"
   ]
  },
  {
   "cell_type": "markdown",
   "id": "479a985e",
   "metadata": {},
   "source": [
    "### [Locking Mechanisms](#LockingMechanisms) <br/><br/> \n",
    "<hr width=50%;>"
   ]
  },
  {
   "cell_type": "markdown",
   "id": "473eb423",
   "metadata": {},
   "source": [
    "### [Fire Prevention and Suppression](#FirePreventionandSuppression) <br/><br/> \n",
    "<hr width=50%;>"
   ]
  },
  {
   "cell_type": "markdown",
   "id": "7358ca27",
   "metadata": {},
   "source": [
    "### [Types of Sensors](#TypesofSensors) <br/><br/> \n",
    "<hr width=50%;>"
   ]
  },
  {
   "cell_type": "markdown",
   "id": "7fdf60d3",
   "metadata": {},
   "source": [
    "### [Secure Areas](#SecureAreas) <br/><br/> \n",
    "<hr width=50%;>"
   ]
  },
  {
   "cell_type": "markdown",
   "id": "f88f0d6c",
   "metadata": {},
   "source": [
    "### [Secure Data Destruction](#SecureDataDestruction) <br/><br/> \n",
    "<hr width=50%;>"
   ]
  },
  {
   "cell_type": "markdown",
   "id": "435ba83d",
   "metadata": {},
   "source": [
    "### [Course Summary](#CourseSummary) <br/><br/> \n",
    "<hr width=50%;>"
   ]
  },
  {
   "cell_type": "markdown",
   "id": "bf2b95e2",
   "metadata": {},
   "source": [
    "***\n",
    "## END"
   ]
  },
  {
   "cell_type": "markdown",
   "id": "34aa6eb5",
   "metadata": {},
   "source": [
    "< [Table of Contents](#top) | [References](#references) >\n",
    "<a id=\"PhysicalSecurityControls\"></a>\n",
    "***\n",
    "### Physical Security Controls\n",
    "***"
   ]
  },
  {
   "cell_type": "markdown",
   "id": "2d857d27",
   "metadata": {},
   "source": [
    "In this CompTIA Security+ SY0-601 course you will realize that real security begins with physical security. You will explore a wide array of physical security controls including bollards, barricades, and badges. You will discover the importance of controls like alarms, signage, cameras, motion recognition and detection. You will answer many questions about the security guards as well. Other important topics include locks, biometrics, lighting, fencing, fire suppression, sensors, motion detection, faraday cages, air gapping, and secure data destruction techniques. This course can be used in preparation for the CompTIA Security+ SY0-601 certification exam."
   ]
  },
  {
   "cell_type": "markdown",
   "id": "173e78b5",
   "metadata": {},
   "source": [
    "Objectives\n",
    "\n",
    "- discover the key concepts covered in this course <br/><br/>\n",
    "- recognize different barrier types such as bollards, barricades, gates, and fences <br/><br/>\n",
    "- describe cameras and surveillance techniques such as CCTV, webcams, motion and object detection, and lighting <br/><br/>\n",
    "- recognize personnel controls such as guards, robot sentries, reception desks, and two-person integrity and control <br/><br/>\n",
    "- describe locks for physical security including biometric, electronic, physical, and cable locks <br/><br/>\n",
    "- recognize various methods and techniques for fire detection, suppression, and prevention including types of fire extinguishers <br/><br/>\n",
    "- recognize different types of sensors including motion detection, noise detection, proximity readers, moisture detection, and temperature sensors <br/><br/>\n",
    "- describe secure areas such as air gaps, vaults, safes, hot aisles, and cold aisles <br/><br/>\n",
    "- recognize methods for secure data disposition like burning, shredding, pulping, pulverizing, degaussing, and third-party solutions <br/><br/>\n",
    "- summarize the key concepts covered in this course <br/><br/>"
   ]
  },
  {
   "cell_type": "markdown",
   "id": "84b00380",
   "metadata": {},
   "source": [
    "< [Table of Contents](#top) | [References](#references) >\n",
    "<a id=\"TypesofPhysicalBarriers\"></a>\n",
    "***\n",
    "### Types of Physical Barriers\n",
    "***"
   ]
  },
  {
   "cell_type": "markdown",
   "id": "d82d85d7",
   "metadata": {},
   "source": []
  },
  {
   "cell_type": "markdown",
   "id": "b4da2efe",
   "metadata": {},
   "source": [
    "< [Table of Contents](#top) | [References](#references) >\n",
    "<a id=\"CamerasandSurveillanceMethods\"></a>\n",
    "***\n",
    "### Cameras and Surveillance Methods\n",
    "***"
   ]
  },
  {
   "cell_type": "markdown",
   "id": "70f6e846",
   "metadata": {},
   "source": []
  },
  {
   "cell_type": "markdown",
   "id": "7b10c3a2",
   "metadata": {},
   "source": [
    "< [Table of Contents](#top) | [References](#references) >\n",
    "<a id=\"PersonnelControls\"></a>\n",
    "***\n",
    "### Personnel Controls\n",
    "***"
   ]
  },
  {
   "cell_type": "markdown",
   "id": "2cc18496",
   "metadata": {},
   "source": []
  },
  {
   "cell_type": "markdown",
   "id": "1ce9ff85",
   "metadata": {},
   "source": [
    "< [Table of Contents](#top) | [References](#references) >\n",
    "<a id=\"LockingMechanisms\"></a>\n",
    "***\n",
    "### Locking Mechanisms\n",
    "***"
   ]
  },
  {
   "cell_type": "markdown",
   "id": "8bb9c616",
   "metadata": {},
   "source": []
  },
  {
   "cell_type": "markdown",
   "id": "d87809fd",
   "metadata": {},
   "source": [
    "< [Table of Contents](#top) | [References](#references) >\n",
    "<a id=\"FirePreventionandSuppression\"></a>\n",
    "***\n",
    "### Fire Prevention and Suppression\n",
    "***"
   ]
  },
  {
   "cell_type": "markdown",
   "id": "f0a909b6",
   "metadata": {},
   "source": []
  },
  {
   "cell_type": "markdown",
   "id": "c781a700",
   "metadata": {},
   "source": [
    "< [Table of Contents](#top) | [References](#references) >\n",
    "<a id=\"TypesofSensors\"></a>\n",
    "***\n",
    "### Types of Sensors\n",
    "***"
   ]
  },
  {
   "cell_type": "markdown",
   "id": "cd41c08d",
   "metadata": {},
   "source": []
  },
  {
   "cell_type": "markdown",
   "id": "1256d7bf",
   "metadata": {},
   "source": [
    "< [Table of Contents](#top) | [References](#references) >\n",
    "<a id=\"SecureAreas\"></a>\n",
    "***\n",
    "### Secure Areas\n",
    "***"
   ]
  },
  {
   "cell_type": "markdown",
   "id": "3ab13be8",
   "metadata": {},
   "source": []
  },
  {
   "cell_type": "markdown",
   "id": "47707114",
   "metadata": {},
   "source": [
    "< [Table of Contents](#top) | [References](#references) >\n",
    "<a id=\"SecureDataDestruction\"></a>\n",
    "***\n",
    "### Secure Data Destruction\n",
    "***"
   ]
  },
  {
   "cell_type": "markdown",
   "id": "5c5eb4ce",
   "metadata": {},
   "source": []
  },
  {
   "cell_type": "markdown",
   "id": "9adeceaf",
   "metadata": {},
   "source": [
    "< [Table of Contents](#top) | [References](#references) >\n",
    "<a id=\"CourseSummary\"></a>\n",
    "***\n",
    "### Course Summary\n",
    "***"
   ]
  },
  {
   "cell_type": "markdown",
   "id": "45d2f914",
   "metadata": {},
   "source": []
  },
  {
   "cell_type": "markdown",
   "id": "2cc20932",
   "metadata": {},
   "source": [
    "***\n",
    "## END"
   ]
  },
  {
   "cell_type": "markdown",
   "id": "e0e42d51",
   "metadata": {},
   "source": [
    "< [Table of Contents](#top) >\n",
    "<a id=\"references\"></a>\n",
    "***\n",
    "## References\n",
    "***"
   ]
  },
  {
   "cell_type": "markdown",
   "id": "757bf6de",
   "metadata": {},
   "source": [
    "&nbsp;&nbsp;&nbsp;&nbsp;&nbsp;&nbsp;&nbsp;&nbsp;&nbsp;eCollege, \"Physical Security Controls,\" [ecollege.ie](https://web.archive.org/web/20220328112908/https://www.ecollege.ie/courses/comptia-security/), n.d.."
   ]
  },
  {
   "cell_type": "markdown",
   "id": "b33c372a",
   "metadata": {},
   "source": [
    "***\n",
    "## END"
   ]
  },
  {
   "cell_type": "markdown",
   "id": "e5961b4d",
   "metadata": {},
   "source": [
    "< [Table of Contents](#top) | [References](#references) >\n",
    "<a id=\"appendix\"></a>\n",
    "***\n",
    "## Appendix\n",
    "***"
   ]
  },
  {
   "cell_type": "markdown",
   "id": "00d82a82",
   "metadata": {},
   "source": [
    "***\n",
    "## END"
   ]
  },
  {
   "cell_type": "code",
   "execution_count": 1,
   "id": "706756a2",
   "metadata": {},
   "outputs": [
    {
     "data": {
      "text/html": [
       "<style>.container { width:100% !important; }</style>"
      ],
      "text/plain": [
       "<IPython.core.display.HTML object>"
      ]
     },
     "metadata": {},
     "output_type": "display_data"
    }
   ],
   "source": [
    "from IPython.core.display import display,HTML\n",
    "display(HTML(\"<style>.container { width:100% !important; }</style>\"))"
   ]
  },
  {
   "cell_type": "markdown",
   "id": "899c1783",
   "metadata": {},
   "source": [
    "# END JUPYTER NOTEBOOK"
   ]
  }
 ],
 "metadata": {
  "kernelspec": {
   "display_name": "Python 3",
   "language": "python",
   "name": "python3"
  },
  "language_info": {
   "codemirror_mode": {
    "name": "ipython",
    "version": 3
   },
   "file_extension": ".py",
   "mimetype": "text/x-python",
   "name": "python",
   "nbconvert_exporter": "python",
   "pygments_lexer": "ipython3",
   "version": "3.8.8"
  }
 },
 "nbformat": 4,
 "nbformat_minor": 5
}
